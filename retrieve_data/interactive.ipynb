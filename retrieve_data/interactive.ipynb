{
 "cells": [
  {
   "cell_type": "code",
   "execution_count": 25,
   "metadata": {},
   "outputs": [],
   "source": [
    "import sqlite_connector\n",
    "import load_data"
   ]
  },
  {
   "cell_type": "code",
   "execution_count": 27,
   "metadata": {},
   "outputs": [
    {
     "name": "stdout",
     "output_type": "stream",
     "text": [
      "True\n",
      "True\n",
      "True\n",
      "False\n"
     ]
    }
   ],
   "source": [
    "import sqlite3\n",
    "import importlib\n",
    "importlib.reload(sqlite_connector)\n",
    "\n",
    "conn = sqlite3.connect('companies.db')\n",
    "print(sqlite_connector.entry_exists(conn, 2017, 'apple', 'QUOTES'))\n",
    "print(sqlite_connector.entry_exists(conn, 2017, 'apple', 'INCOME_STATEMENT'))\n",
    "print(sqlite_connector.entry_exists(conn, 2020, 'walmart', 'BALANCE_SHEET'))\n",
    "print(sqlite_connector.entry_exists(conn, 2017, 'foo', 'BALANCE_SHEET'))"
   ]
  },
  {
   "cell_type": "code",
   "execution_count": 37,
   "metadata": {},
   "outputs": [
    {
     "name": "stdout",
     "output_type": "stream",
     "text": [
      "store income\n",
      "store quotes\n",
      "store balance\n",
      "wait to lower api access rate...\n",
      "continue\n",
      "store income\n",
      "store quotes\n",
      "store balance\n",
      "wait to lower api access rate...\n",
      "continue\n",
      "store income\n",
      "store quotes\n",
      "store balance\n",
      "wait to lower api access rate...\n",
      "continue\n",
      "store income\n",
      "store quotes\n",
      "store balance\n",
      "wait to lower api access rate...\n",
      "continue\n",
      "store income\n",
      "store quotes\n",
      "store balance\n",
      "wait to lower api access rate...\n",
      "continue\n",
      "store income\n",
      "store quotes\n",
      "store balance\n",
      "wait to lower api access rate...\n",
      "continue\n"
     ]
    }
   ],
   "source": [
    "import time\n",
    "importlib.reload(load_data)\n",
    "importlib.reload(sqlite_connector)\n",
    "\n",
    "for i in range(6):\n",
    "    year = 2016 + i\n",
    "\n",
    "    comps = load_data.load_data(year)\n",
    "    sqlite_connector.save_company_infos(year, comps)\n",
    "    print('wait to lower api access rate...')\n",
    "    time.sleep(10)\n",
    "    print('continue')"
   ]
  },
  {
   "cell_type": "code",
   "execution_count": 33,
   "metadata": {},
   "outputs": [],
   "source": [
    "import load_companies"
   ]
  },
  {
   "cell_type": "code",
   "execution_count": 36,
   "metadata": {},
   "outputs": [
    {
     "name": "stdout",
     "output_type": "stream",
     "text": [
      "looked at page 0 with 100 entries\n",
      "looked at page 1 with 100 entries\n",
      "looked at page 2 with 100 entries\n",
      "looked at page 3 with 100 entries\n",
      "looked at page 4 with 82 entries\n",
      "looked at page 0 with 100 entries\n",
      "looked at page 1 with 100 entries\n",
      "looked at page 2 with 100 entries\n",
      "looked at page 3 with 100 entries\n",
      "looked at page 4 with 66 entries\n"
     ]
    }
   ],
   "source": [
    "importlib.reload(load_companies)\n",
    "importlib.reload(sqlite_connector)\n",
    "\n",
    "comps0 = load_companies.load_year(2016)\n",
    "sqlite_connector.save_companies(conn, comps0)\n",
    "comps1 = load_companies.load_year(2020)\n",
    "sqlite_connector.save_companies(conn, comps1)\n",
    "\n",
    "conn.commit()"
   ]
  },
  {
   "cell_type": "code",
   "execution_count": 57,
   "metadata": {},
   "outputs": [],
   "source": [
    "import sqlite3\n",
    "import importlib\n",
    "import load_data\n",
    "import sqlite_connector"
   ]
  },
  {
   "cell_type": "code",
   "execution_count": 64,
   "metadata": {},
   "outputs": [
    {
     "name": "stdout",
     "output_type": "stream",
     "text": [
      "2016\n",
      "1000000.0\n",
      "1\n",
      "[(2016, 'bayer', 81845750000, 2232765000.0), (2017, 'bayer', 86136900000, 2315460000.0), (2018, 'bayer', 56607980000, 2611140000.0), (2019, 'bayer', 71413800000, 2750776000.0), (2020, 'bayer', 47195999999, 1964840000.0)]\n",
      "[(2016, 'bayer', 46769000000, 4531000000), (2017, 'bayer', 35015000000, 7336000000), (2018, 'bayer', 39586000000, 1695000000), (2019, 'bayer', 43545000000, 2411000000), (2020, 'bayer', 41400000000, -15569000000)]\n",
      "[(2016, 'bayer', 826950000, 82238000000, 50341000000, 115200), (2017, 'bayer', 826950000, 75087000000, 38226000000, 99820), (2018, 'bayer', 932550000, 126285000000, 80137000000, 107894), (2019, 'bayer', 982420000, 126258000000, 78741000000, 103824), (2020, 'bayer', 982420000, 117046000000, 86347000000, 99538)]\n"
     ]
    }
   ],
   "source": [
    "importlib.reload(sqlite_connector)\n",
    "importlib.reload(load_data)\n",
    "\n",
    "cmps = load_data.load_company_history('bayer')\n",
    "\n",
    "conn = sqlite_connector.get_db('../')\n",
    "\n",
    "sqlite_connector.save_company_history(conn, cmps)\n",
    "conn.commit()"
   ]
  }
 ],
 "metadata": {
  "interpreter": {
   "hash": "916dbcbb3f70747c44a77c7bcd40155683ae19c65e1c03b4aa3499c5328201f1"
  },
  "kernelspec": {
   "display_name": "Python 3.8.10 64-bit",
   "language": "python",
   "name": "python3"
  },
  "language_info": {
   "codemirror_mode": {
    "name": "ipython",
    "version": 3
   },
   "file_extension": ".py",
   "mimetype": "text/x-python",
   "name": "python",
   "nbconvert_exporter": "python",
   "pygments_lexer": "ipython3",
   "version": "3.8.10"
  },
  "orig_nbformat": 4
 },
 "nbformat": 4,
 "nbformat_minor": 2
}
