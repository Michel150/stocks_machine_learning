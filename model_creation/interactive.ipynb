{
 "cells": [
  {
   "cell_type": "code",
   "execution_count": 1,
   "metadata": {},
   "outputs": [],
   "source": [
    "import calculate_evaluations\n",
    "import importlib"
   ]
  },
  {
   "cell_type": "code",
   "execution_count": 2,
   "metadata": {},
   "outputs": [
    {
     "name": "stdout",
     "output_type": "stream",
     "text": [
      "0.15726236871813237\n",
      "mean of year 2016 = 0.11957491149182174\n"
     ]
    }
   ],
   "source": [
    "import numpy as np\n",
    "importlib.reload(calculate_evaluations)\n",
    "import sqlite_connector\n",
    "conn = sqlite_connector.get_db('../')\n",
    "\n",
    "hrefs, change = calculate_evaluations.two_yr_change(conn, 2017)\n",
    "print(np.mean(change))\n",
    "\n",
    "change1 = calculate_evaluations.one_yr_change(conn, 2016, hrefs)\n",
    "print(f'mean of year 2016 = {np.mean(change1)}')"
   ]
  },
  {
   "cell_type": "code",
   "execution_count": 39,
   "metadata": {},
   "outputs": [
    {
     "name": "stdout",
     "output_type": "stream",
     "text": [
      "3m\n",
      "PER = 21.105009376953532\n",
      "PER_H = 21.282003106738664\n",
      "PRR = 3.54\n",
      "PBR = 10.305549450549451\n",
      "DIV_Y = 0.024874277938614343\n",
      "ACT_Y = 0.4882987382987383\n",
      "RET_Y = 0.1677326902240397\n",
      "CAP_Y = 0.15347468739006684\n",
      "DEBT = 0.6856950973807925\n",
      "INC_PE = 52399.98252969951\n",
      "RET_PE = 312401.72955974843\n"
     ]
    }
   ],
   "source": [
    "importlib.reload(sqlite_connector)\n",
    "importlib.reload(calculate_evaluations)\n",
    "\n",
    "dl = calculate_evaluations.data_loader(2016, 2021)\n",
    "print(dl.hrefs[0])\n",
    "print(f'PER = {dl.PER(2016)[0]}')\n",
    "print(f'PER_H = {dl.PER_H(2018,2016)[0]}')\n",
    "print(f'PRR = {dl.PRR(2016)[0]}')\n",
    "print(f'PBR = {dl.PBR(2016)[0]}')\n",
    "print(f'DIV_Y = {dl.DIV_Y(2016)[0]}')\n",
    "print(f'ACT_Y = {dl.ACT_Y(2016)[0]}')\n",
    "print(f'RET_Y = {dl.RET_Y(2016)[0]}')\n",
    "print(f'CAP_Y = {dl.CAP_Y(2016)[0]}')\n",
    "print(f'DEBT = {dl.DEBT(2016)[0]}')\n",
    "print(f'INC_PE = {dl.INC_PE(2016)[0]}')\n",
    "print(f'RET_PE = {dl.RET_PE(2016)[0]}')\n",
    "\n",
    "print(f'1yr_change = {dl.YR_change(2016, years=1)}')"
   ]
  }
 ],
 "metadata": {
  "interpreter": {
   "hash": "916dbcbb3f70747c44a77c7bcd40155683ae19c65e1c03b4aa3499c5328201f1"
  },
  "kernelspec": {
   "display_name": "Python 3.8.10 64-bit",
   "language": "python",
   "name": "python3"
  },
  "language_info": {
   "codemirror_mode": {
    "name": "ipython",
    "version": 3
   },
   "file_extension": ".py",
   "mimetype": "text/x-python",
   "name": "python",
   "nbconvert_exporter": "python",
   "pygments_lexer": "ipython3",
   "version": "3.8.10"
  },
  "orig_nbformat": 4
 },
 "nbformat": 4,
 "nbformat_minor": 2
}
